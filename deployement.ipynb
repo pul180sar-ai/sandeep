{
 "cells": [
  {
   "cell_type": "code",
   "execution_count": 6,
   "id": "070abd93-9e17-46ec-9e04-b232118d8706",
   "metadata": {},
   "outputs": [
    {
     "name": "stdout",
     "output_type": "stream",
     "text": [
      "Overwriting app.py\n"
     ]
    }
   ],
   "source": [
    "%%writefile app.py\n",
    "\n",
    "import streamlit as st \n",
    "import numpy as np\n",
    "import pandas as pd\n",
    "import joblib\n",
    "\n",
    "# First lets load the instances that were created\n",
    "\n",
    "with open ('scaler.joblib','rb') as file:\n",
    "    scale = joblib.load(file)\n",
    "\n",
    "with open ('pca.joblib','rb') as file:\n",
    "    pca = joblib.load(file)\n",
    "\n",
    "with open ('final_model.joblib','rb') as file:\n",
    "    model = joblib.load(file)\n",
    "\n",
    "def prediction(input_list):\n",
    "\n",
    "    scaled_input = scale.transform([input_list])\n",
    "    pca_input = pca.transform(scaled_input)\n",
    "    output = model.predict(pca_input)[0]\n",
    "\n",
    "    if output == 0:\n",
    "        return 'Developed'\n",
    "    elif output == 1 :\n",
    "        return 'Underdeveloped'\n",
    "    else:\n",
    "        return 'Developing'\n",
    "\n",
    "def main():\n",
    "\n",
    "    st.title('HELP NGO FOUNDATION')\n",
    "    st.subheader('This application will give the status of the country based on socio-economic and health')\n",
    "\n",
    "    gdp = st.text_input('Enter the GDP per Population of a country')\n",
    "    inc = st.text_input('Enter the  per capita income of a country')\n",
    "    imp = st.text_input('Enter the  Imports in terms of % of GDP ')\n",
    "    exp = st.text_input('Enter the  Exports in terms of % of GDP ')\n",
    "    inf = st.text_input('Enter the inflation rate in a country (%)')\n",
    "\n",
    "    hel = st.text_input('Enter the expenditure on health in term % of GDP')\n",
    "    ch_m = st.text_input('Enter the number of death per 1000 birth for <5 yrs')\n",
    "    fer = st.text_input('Enter the avg children born to a women in a country')\n",
    "    lf = st.text_input('Enter the average life expectancy in a counrty')\n",
    "\n",
    "    in_data = [ch_m,exp,hel,imp,inc,inf,lf,fer,gdp]\n",
    "\n",
    "    if st.button('Predict'):\n",
    "        response = prediction(in_data)\n",
    "        st.success(response)\n",
    "\n",
    "if __name__=='__main__':\n",
    "    main()"
   ]
  },
  {
   "cell_type": "code",
   "execution_count": null,
   "id": "1e852c08-fad4-489f-84ac-7e80b25651b9",
   "metadata": {},
   "outputs": [],
   "source": []
  },
  {
   "cell_type": "code",
   "execution_count": null,
   "id": "8ceb15e1-7c9b-4f27-973a-376c036c065e",
   "metadata": {},
   "outputs": [],
   "source": []
  },
  {
   "cell_type": "code",
   "execution_count": null,
   "id": "aba3471f-94e0-4101-a623-77059f18af84",
   "metadata": {},
   "outputs": [],
   "source": []
  },
  {
   "cell_type": "code",
   "execution_count": null,
   "id": "13828b09-58e9-4101-823d-e53af493e390",
   "metadata": {},
   "outputs": [],
   "source": []
  },
  {
   "cell_type": "code",
   "execution_count": null,
   "id": "92bcc1e0-2567-4ae7-baa0-a12a64f5a32f",
   "metadata": {},
   "outputs": [],
   "source": []
  },
  {
   "cell_type": "code",
   "execution_count": null,
   "id": "a098286e-2f2b-40fc-820a-467415e4f753",
   "metadata": {},
   "outputs": [],
   "source": []
  },
  {
   "cell_type": "code",
   "execution_count": null,
   "id": "5145f628-a1d7-4205-b425-4fc7723d4ebd",
   "metadata": {},
   "outputs": [],
   "source": []
  },
  {
   "cell_type": "code",
   "execution_count": null,
   "id": "54b60264-76f2-4a09-8aa9-317eae821571",
   "metadata": {},
   "outputs": [],
   "source": []
  },
  {
   "cell_type": "code",
   "execution_count": null,
   "id": "830aba6e-c200-4043-9eca-4745c5fe8943",
   "metadata": {},
   "outputs": [],
   "source": []
  },
  {
   "cell_type": "code",
   "execution_count": null,
   "id": "12088aea-d29d-48db-a790-f79cb92c299b",
   "metadata": {},
   "outputs": [],
   "source": []
  },
  {
   "cell_type": "code",
   "execution_count": null,
   "id": "58c38dd3-b420-40b3-8a41-84fa36eeb0cf",
   "metadata": {},
   "outputs": [],
   "source": []
  },
  {
   "cell_type": "code",
   "execution_count": null,
   "id": "803ca22c-6c27-4f96-bcee-7d0a7b237ac1",
   "metadata": {},
   "outputs": [],
   "source": []
  },
  {
   "cell_type": "code",
   "execution_count": null,
   "id": "ccd9f914-fee8-406d-b9d9-161fccb0215c",
   "metadata": {},
   "outputs": [],
   "source": []
  },
  {
   "cell_type": "code",
   "execution_count": null,
   "id": "f6f05826-8b4d-40d3-b438-36b9b40b6b14",
   "metadata": {},
   "outputs": [],
   "source": []
  },
  {
   "cell_type": "code",
   "execution_count": null,
   "id": "7fa3eb80-d343-408d-8c29-92e7f581d67e",
   "metadata": {},
   "outputs": [],
   "source": []
  },
  {
   "cell_type": "code",
   "execution_count": null,
   "id": "08c45095-0d90-4a63-a33e-90ce66a6df42",
   "metadata": {},
   "outputs": [],
   "source": []
  },
  {
   "cell_type": "code",
   "execution_count": null,
   "id": "04d1b3da-1f79-4d2f-b944-1fd75d1c1a8d",
   "metadata": {},
   "outputs": [],
   "source": []
  },
  {
   "cell_type": "code",
   "execution_count": null,
   "id": "fc7ad696-96a2-48b3-8cb6-68441c718a12",
   "metadata": {},
   "outputs": [],
   "source": []
  },
  {
   "cell_type": "code",
   "execution_count": null,
   "id": "d3976ace-313e-4d08-ad3c-5ec56d61f6e9",
   "metadata": {},
   "outputs": [],
   "source": []
  },
  {
   "cell_type": "code",
   "execution_count": null,
   "id": "1df7ce2c-b60d-4dde-b9df-3e811b9b2f16",
   "metadata": {},
   "outputs": [],
   "source": []
  },
  {
   "cell_type": "code",
   "execution_count": null,
   "id": "52a2d769-5b2c-42f6-8769-d3279b167251",
   "metadata": {},
   "outputs": [],
   "source": []
  },
  {
   "cell_type": "code",
   "execution_count": null,
   "id": "6dd131a0-82a0-4d33-95eb-263317729936",
   "metadata": {},
   "outputs": [],
   "source": []
  },
  {
   "cell_type": "code",
   "execution_count": null,
   "id": "b9f3f256-1424-4e41-9bd5-1853d40dd5f5",
   "metadata": {},
   "outputs": [],
   "source": []
  },
  {
   "cell_type": "code",
   "execution_count": null,
   "id": "69eb4ff6-fc2f-405e-bc7b-056480b06f2e",
   "metadata": {},
   "outputs": [],
   "source": []
  },
  {
   "cell_type": "code",
   "execution_count": null,
   "id": "5b378768-c483-48cb-a755-4128682aa150",
   "metadata": {},
   "outputs": [],
   "source": []
  }
 ],
 "metadata": {
  "kernelspec": {
   "display_name": "Python 3 (ipykernel)",
   "language": "python",
   "name": "python3"
  },
  "language_info": {
   "codemirror_mode": {
    "name": "ipython",
    "version": 3
   },
   "file_extension": ".py",
   "mimetype": "text/x-python",
   "name": "python",
   "nbconvert_exporter": "python",
   "pygments_lexer": "ipython3",
   "version": "3.12.7"
  }
 },
 "nbformat": 4,
 "nbformat_minor": 5
}
